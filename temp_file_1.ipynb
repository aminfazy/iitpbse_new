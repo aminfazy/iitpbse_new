{
  "nbformat": 4,
  "nbformat_minor": 0,
  "metadata": {
    "colab": {
      "name": "temp_file_1.ipynb",
      "provenance": [],
      "authorship_tag": "ABX9TyMlCfMTr5OUTuEkZ2tYbVs6",
      "include_colab_link": true
    },
    "kernelspec": {
      "name": "python3",
      "display_name": "Python 3"
    }
  },
  "cells": [
    {
      "cell_type": "markdown",
      "metadata": {
        "id": "view-in-github",
        "colab_type": "text"
      },
      "source": [
        "<a href=\"https://colab.research.google.com/github/aminfazy/iitpbse_temp1/blob/master/temp_file_1.ipynb\" target=\"_parent\"><img src=\"https://colab.research.google.com/assets/colab-badge.svg\" alt=\"Open In Colab\"/></a>"
      ]
    },
    {
      "cell_type": "code",
      "metadata": {
        "id": "uvc1lAZcmvm8",
        "colab_type": "code",
        "colab": {}
      },
      "source": [
        ""
      ],
      "execution_count": 0,
      "outputs": []
    },
    {
      "cell_type": "markdown",
      "metadata": {
        "id": "ayIoIiXYm0QY",
        "colab_type": "text"
      },
      "source": [
        "This is anothe test file for demonstrating how to connect colab with github.\n"
      ]
    },
    {
      "cell_type": "code",
      "metadata": {
        "id": "GWpLrresm9dy",
        "colab_type": "code",
        "colab": {}
      },
      "source": [
        "import numpy  as nnn"
      ],
      "execution_count": 0,
      "outputs": []
    }
  ]
}